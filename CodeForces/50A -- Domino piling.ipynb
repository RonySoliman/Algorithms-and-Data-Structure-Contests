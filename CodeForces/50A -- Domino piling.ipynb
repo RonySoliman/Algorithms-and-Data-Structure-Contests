{
 "cells": [
  {
   "cell_type": "raw",
   "id": "b46bc42e",
   "metadata": {},
   "source": [
    "16 square\n",
    "1 covers 2 squares\n",
    "16/2=    8 dominos\n",
    "4\n",
    "2*4=8/2=4 \"numbers are even\"\n",
    "3*3=9/2=4.5 round down   \"numbers are odd\"\n",
    "4\n",
    "\n",
    "\n",
    "Find the maximum number of dominoes, which can be placed under these restrictions.\n",
    "\n",
    "Code should have cases: (Both cases the number shouldn't be larger than 8 dominos)\n",
    "1. The maximum number of dominoes. [in case of number is even/odd]\n",
    "2. In case number are odd round down.\n",
    "3. In case one number (n or m) is odd, then N-1"
   ]
  },
  {
   "cell_type": "markdown",
   "id": "7fb3d93e",
   "metadata": {},
   "source": [
    "    - Problem A: Answer is floor(N*M*0.5). Since there is N*M cells on the board and each domino covers exactly two of them we cannot place more for sure. Now let's show how to place exactly this number of dominoes. If N is even, then place M rows of N/2 dominoes and cover the whole board. Else N is odd, so cover N-1 row of the board as shown above and put floor(M/2) dominoes to the last row. In the worst case (N and M are odd) one cell remains uncovered."
   ]
  },
  {
   "cell_type": "code",
   "execution_count": 14,
   "id": "d4cf803c",
   "metadata": {},
   "outputs": [
    {
     "name": "stdout",
     "output_type": "stream",
     "text": [
      "10\n",
      "12\n",
      "number is large\n"
     ]
    }
   ],
   "source": [
    "# case is even both numbers:\n",
    "n = int(input())\n",
    "m = int(input())\n",
    "\n",
    "if ((n%2) == 0) & ((m%2) == 0):\n",
    "    count=(n*m)/2\n",
    "    if (count < 8):\n",
    "        print(\"The maximum number of dominoes:\",count)\n",
    "    else:\n",
    "        print(\"number is large\")\n",
    "else:\n",
    "    print(\"no isn't even\")"
   ]
  },
  {
   "cell_type": "code",
   "execution_count": 22,
   "id": "8d1276ff",
   "metadata": {},
   "outputs": [
    {
     "name": "stdout",
     "output_type": "stream",
     "text": [
      "3\n",
      "2\n",
      "The maximum number of dominoes: 2.0\n"
     ]
    }
   ],
   "source": [
    "#case n is odd:\n",
    "\n",
    "an = int(input())\n",
    "b = int(input())\n",
    "\n",
    "if ((an%2) == 1) & ((b%2) == 0):\n",
    "    ann = an-1\n",
    "    count_n0 = (ann*b)/2\n",
    "    if (count_n0 < 8):\n",
    "        print(\"The maximum number of dominoes:\",count_n0)\n",
    "    else:\n",
    "        print(\"number is large\")\n",
    "else:\n",
    "    print(\"no isn't even\")"
   ]
  },
  {
   "cell_type": "code",
   "execution_count": 26,
   "id": "dbe709ad",
   "metadata": {},
   "outputs": [
    {
     "name": "stdout",
     "output_type": "stream",
     "text": [
      "3\n",
      "5\n",
      "The maximum number of dominoes: 7\n"
     ]
    }
   ],
   "source": [
    "#case is n&m are odd numbers\n",
    "\n",
    "c= int(input())\n",
    "d= int(input())\n",
    "\n",
    "if ((c%2) == 1) & ((d%2) == 1):\n",
    "    count_11=round(((c*d)/2)-0.5)\n",
    "    if (count_11 < 8):\n",
    "        print(\"The maximum number of dominoes:\",count_11)\n",
    "    else:\n",
    "        print(\"number is large\")\n",
    "else:\n",
    "    print(\"no isn't even\")"
   ]
  },
  {
   "cell_type": "code",
   "execution_count": 18,
   "id": "5d114d50",
   "metadata": {},
   "outputs": [
    {
     "data": {
      "text/plain": [
       "28"
      ]
     },
     "execution_count": 18,
     "metadata": {},
     "output_type": "execute_result"
    }
   ],
   "source": [
    "4*7\n"
   ]
  },
  {
   "cell_type": "code",
   "execution_count": 27,
   "id": "4b3255c5",
   "metadata": {},
   "outputs": [
    {
     "data": {
      "text/plain": [
       "7"
      ]
     },
     "execution_count": 27,
     "metadata": {},
     "output_type": "execute_result"
    }
   ],
   "source": [
    "round(((3*5)/2)-0.5)"
   ]
  },
  {
   "cell_type": "code",
   "execution_count": null,
   "id": "1dd4807d",
   "metadata": {},
   "outputs": [],
   "source": [
    "# case is even both numbers:\n",
    "n = int(input())\n",
    "m = int(input())\n",
    "\n",
    "if ((n%2) == 0) & ((m%2) == 0):\n",
    "    count=(n*m)/2\n",
    "    if (count < 8):\n",
    "        print(\"The maximum number of dominoes:\",count)\n",
    "    else:\n",
    "        print(\"number is large\")\n",
    "        \n",
    "elif ((n%2) == 1) & ((m%2) == 0):\n",
    "    ann = n-1\n",
    "    count_n0 = (n*m)/2\n",
    "    if (count_n0 < 8):\n",
    "        print(\"The maximum number of dominoes:\",count_n0)\n",
    "    else:\n",
    "        print(\"number is large\")\n",
    "        \n",
    "elif ((n%2) == 1) & ((m%2) == 1):\n",
    "    count_11=round(((n*m)/2)-0.5)\n",
    "    if (count_11 < 8):\n",
    "        print(\"The maximum number of dominoes:\",count_11)\n",
    "    else:\n",
    "        print(\"number is large\")   \n",
    "else:\n",
    "    print(\"no isn't even\")"
   ]
  },
  {
   "cell_type": "code",
   "execution_count": null,
   "id": "a17f60f5",
   "metadata": {},
   "outputs": [],
   "source": [
    "# case is even both numbers:\n",
    "n = int(input())\n",
    "m = int(input())\n",
    "\n",
    "count = n*m*0.5\n",
    "\n",
    "for count in range(1,9):\n",
    "    if ((n%2) == 0) & ((m%2) == 0):\n",
    "        print(\"The maximum number of dominoes:\",count)\n",
    "        break\n",
    "    elif ((n%2) == 1) & ((m%2) == 0):\n",
    "        ann = n-1\n",
    "        count_n0 = (ann*m)/2\n",
    "        print(\"The maximum number of dominoes:\",count_n0)\n",
    "        break\n",
    "    elif ((n%2) == 1) & ((m%2) == 1):\n",
    "        count_11=round(((n*m)/2)-0.5)\n",
    "        print(\"The maximum number of dominoes:\",count_11)\n",
    "    else:\n",
    "        print(\"number is large\")"
   ]
  },
  {
   "cell_type": "code",
   "execution_count": null,
   "id": "404e69f7",
   "metadata": {},
   "outputs": [],
   "source": [
    "# case is even both numbers:\n",
    "n = int(input())\n",
    "m = int(input())\n",
    "\n",
    "count = 1\n",
    "\n",
    "for count in range(1,9):\n",
    "    if ((n%2) == 0) & ((m%2) == 0):\n",
    "        count=(n*m)/2\n",
    "        if (count < 8):\n",
    "            print(\"The maximum number of dominoes:\",count)\n",
    "            break\n",
    "        else:\n",
    "            count+=1\n",
    "            break\n",
    "    elif ((n%2) == 1) & ((m%2) == 0):\n",
    "        ann = n-1\n",
    "        count_n0 = (ann*m)/2\n",
    "        if (count < 8):\n",
    "            print(\"The maximum number of dominoes:\",count_n0)\n",
    "            break\n",
    "        else:\n",
    "            count+=1\n",
    "            break\n",
    "    elif ((n%2) == 1) & ((m%2) == 1):\n",
    "        count_11=round(((n*m)/2)-0.5)\n",
    "        if (count < 8):\n",
    "            print(\"The maximum number of dominoes:\",count_11)\n",
    "            break\n",
    "        else:\n",
    "            count+=1\n",
    "    else:\n",
    "        count+=1\n",
    "        break"
   ]
  },
  {
   "cell_type": "code",
   "execution_count": null,
   "id": "047c3e1e",
   "metadata": {},
   "outputs": [],
   "source": [
    "n = int(input())\n",
    "m = int(input())\n",
    "\n",
    "count = 1\n",
    "\n",
    "for count in range(1,9):\n",
    "    if ((n%2) == 0) & ((m%2) == 0):\n",
    "        count=(n*m)/2\n",
    "        if (count < 9):\n",
    "            print(\"The maximum number of dominoes:\",count)\n",
    "            break\n",
    "        else:\n",
    "            count+=1\n",
    "            break\n",
    "    elif ((n%2) == 1) & ((m%2) == 0):\n",
    "        ann = n-1\n",
    "        count_n0 = (ann*m)/2\n",
    "        if (count < 9):\n",
    "            print(\"The maximum number of dominoes:\",count_n0)\n",
    "            break\n",
    "        else:\n",
    "            count+=1\n",
    "            break\n",
    "    elif ((n%2) == 1) & ((m%2) == 1):\n",
    "        count_11=round(((n*m)/2)-0.5)\n",
    "        if (count < 9):\n",
    "            print(\"The maximum number of dominoes:\",count_11)\n",
    "            break\n",
    "        else:\n",
    "            count+=1\n",
    "    else:\n",
    "        count+=1\n",
    "        break"
   ]
  },
  {
   "cell_type": "code",
   "execution_count": null,
   "id": "0e834ee7",
   "metadata": {},
   "outputs": [],
   "source": [
    "m,n = map(int, input().split())\n",
    "\n",
    "if ((n%2) == 0) & ((m%2) == 0):\n",
    "    count=(n*m)/2\n",
    "    if (count < 9):\n",
    "        print(int(count))\n",
    "    else:\n",
    "        count+=1            \n",
    "elif ((n%2) == 1) & ((m%2) == 0):\n",
    "    ann = n-1\n",
    "    count_n0 = (n*m)/2\n",
    "    if (count < 9):\n",
    "        print(int(count))\n",
    "    else:\n",
    "        count+=1\n",
    "elif ((n%2) == 1) & ((m%2) == 1):\n",
    "    count_11=round(((n*m)/2)-0.5)\n",
    "    if (count < 9):\n",
    "        print(int(count_11))\n",
    "    else:\n",
    "        count+=1\n",
    "else:\n",
    "    count+=1\n"
   ]
  },
  {
   "cell_type": "code",
   "execution_count": null,
   "id": "768fc5a9",
   "metadata": {},
   "outputs": [],
   "source": [
    "m, n = map(int, input().split())\n",
    "\n",
    "count = int(m*n*0.5)\n",
    "print(count)"
   ]
  }
 ],
 "metadata": {
  "kernelspec": {
   "display_name": "Python 3 (ipykernel)",
   "language": "python",
   "name": "python3"
  },
  "language_info": {
   "codemirror_mode": {
    "name": "ipython",
    "version": 3
   },
   "file_extension": ".py",
   "mimetype": "text/x-python",
   "name": "python",
   "nbconvert_exporter": "python",
   "pygments_lexer": "ipython3",
   "version": "3.8.10"
  }
 },
 "nbformat": 4,
 "nbformat_minor": 5
}
